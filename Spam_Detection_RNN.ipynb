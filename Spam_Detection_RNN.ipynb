{
  "nbformat": 4,
  "nbformat_minor": 0,
  "metadata": {
    "colab": {
      "name": "Spam Detection RNN.ipynb",
      "provenance": [],
      "authorship_tag": "ABX9TyOw8t7O0nFsnp/xKQvoLtpY",
      "include_colab_link": true
    },
    "kernelspec": {
      "name": "python3",
      "display_name": "Python 3"
    }
  },
  "cells": [
    {
      "cell_type": "markdown",
      "metadata": {
        "id": "view-in-github",
        "colab_type": "text"
      },
      "source": [
        "<a href=\"https://colab.research.google.com/github/AmazingGrace-D/Spam_Detection_RNN/blob/main/Spam_Detection_RNN.ipynb\" target=\"_parent\"><img src=\"https://colab.research.google.com/assets/colab-badge.svg\" alt=\"Open In Colab\"/></a>"
      ]
    },
    {
      "cell_type": "code",
      "metadata": {
        "id": "NETzUD_NZAqZ"
      },
      "source": [
        "import numpy as np\r\n",
        "import pandas as pd\r\n",
        "import matplotlib.pyplot as plt\r\n",
        "from sklearn.model_selection import train_test_split\r\n",
        "\r\n",
        "from tensorflow.keras.preprocessing.text import Tokenizer\r\n",
        "from tensorflow.keras.preprocessing.sequence import pad_sequences\r\n",
        "from tensorflow.keras.layers import Dense, Input, GlobalMaxPooling1D\r\n",
        "from tensorflow.keras.layers import LSTM, Embedding, Bidirectional\r\n",
        "from tensorflow.keras.models import Model"
      ],
      "execution_count": null,
      "outputs": []
    },
    {
      "cell_type": "code",
      "metadata": {
        "colab": {
          "base_uri": "https://localhost:8080/"
        },
        "id": "lIlSHzVDf7Vb",
        "outputId": "bec69c2b-1111-4a23-83f9-58bfe8b66a31"
      },
      "source": [
        "!wget https://lazyprogrammer.me/course_files/spam.csv"
      ],
      "execution_count": null,
      "outputs": [
        {
          "output_type": "stream",
          "text": [
            "--2021-01-24 00:41:32--  https://lazyprogrammer.me/course_files/spam.csv\n",
            "Resolving lazyprogrammer.me (lazyprogrammer.me)... 104.21.23.210, 172.67.213.166, 2606:4700:3031::6815:17d2, ...\n",
            "Connecting to lazyprogrammer.me (lazyprogrammer.me)|104.21.23.210|:443... connected.\n",
            "HTTP request sent, awaiting response... 200 OK\n",
            "Length: 503663 (492K) [text/csv]\n",
            "Saving to: ‘spam.csv’\n",
            "\n",
            "\rspam.csv              0%[                    ]       0  --.-KB/s               \rspam.csv            100%[===================>] 491.86K  --.-KB/s    in 0.04s   \n",
            "\n",
            "2021-01-24 00:41:33 (12.4 MB/s) - ‘spam.csv’ saved [503663/503663]\n",
            "\n"
          ],
          "name": "stdout"
        }
      ]
    },
    {
      "cell_type": "code",
      "metadata": {
        "id": "SZVhC4sRgEIf"
      },
      "source": [
        "df = pd.read_csv('spam.csv', encoding='ISO-8859-1')"
      ],
      "execution_count": null,
      "outputs": []
    },
    {
      "cell_type": "code",
      "metadata": {
        "colab": {
          "base_uri": "https://localhost:8080/",
          "height": 206
        },
        "id": "qCGtSjxCgP8K",
        "outputId": "0811b4d3-e182-415b-80e5-6c795f081c2a"
      },
      "source": [
        "df.head()"
      ],
      "execution_count": null,
      "outputs": [
        {
          "output_type": "execute_result",
          "data": {
            "text/html": [
              "<div>\n",
              "<style scoped>\n",
              "    .dataframe tbody tr th:only-of-type {\n",
              "        vertical-align: middle;\n",
              "    }\n",
              "\n",
              "    .dataframe tbody tr th {\n",
              "        vertical-align: top;\n",
              "    }\n",
              "\n",
              "    .dataframe thead th {\n",
              "        text-align: right;\n",
              "    }\n",
              "</style>\n",
              "<table border=\"1\" class=\"dataframe\">\n",
              "  <thead>\n",
              "    <tr style=\"text-align: right;\">\n",
              "      <th></th>\n",
              "      <th>v1</th>\n",
              "      <th>v2</th>\n",
              "      <th>Unnamed: 2</th>\n",
              "      <th>Unnamed: 3</th>\n",
              "      <th>Unnamed: 4</th>\n",
              "    </tr>\n",
              "  </thead>\n",
              "  <tbody>\n",
              "    <tr>\n",
              "      <th>0</th>\n",
              "      <td>ham</td>\n",
              "      <td>Go until jurong point, crazy.. Available only ...</td>\n",
              "      <td>NaN</td>\n",
              "      <td>NaN</td>\n",
              "      <td>NaN</td>\n",
              "    </tr>\n",
              "    <tr>\n",
              "      <th>1</th>\n",
              "      <td>ham</td>\n",
              "      <td>Ok lar... Joking wif u oni...</td>\n",
              "      <td>NaN</td>\n",
              "      <td>NaN</td>\n",
              "      <td>NaN</td>\n",
              "    </tr>\n",
              "    <tr>\n",
              "      <th>2</th>\n",
              "      <td>spam</td>\n",
              "      <td>Free entry in 2 a wkly comp to win FA Cup fina...</td>\n",
              "      <td>NaN</td>\n",
              "      <td>NaN</td>\n",
              "      <td>NaN</td>\n",
              "    </tr>\n",
              "    <tr>\n",
              "      <th>3</th>\n",
              "      <td>ham</td>\n",
              "      <td>U dun say so early hor... U c already then say...</td>\n",
              "      <td>NaN</td>\n",
              "      <td>NaN</td>\n",
              "      <td>NaN</td>\n",
              "    </tr>\n",
              "    <tr>\n",
              "      <th>4</th>\n",
              "      <td>ham</td>\n",
              "      <td>Nah I don't think he goes to usf, he lives aro...</td>\n",
              "      <td>NaN</td>\n",
              "      <td>NaN</td>\n",
              "      <td>NaN</td>\n",
              "    </tr>\n",
              "  </tbody>\n",
              "</table>\n",
              "</div>"
            ],
            "text/plain": [
              "     v1  ... Unnamed: 4\n",
              "0   ham  ...        NaN\n",
              "1   ham  ...        NaN\n",
              "2  spam  ...        NaN\n",
              "3   ham  ...        NaN\n",
              "4   ham  ...        NaN\n",
              "\n",
              "[5 rows x 5 columns]"
            ]
          },
          "metadata": {
            "tags": []
          },
          "execution_count": 4
        }
      ]
    },
    {
      "cell_type": "code",
      "metadata": {
        "id": "UEK71vy1gRIW"
      },
      "source": [
        "df = df[['v1', 'v2']]"
      ],
      "execution_count": null,
      "outputs": []
    },
    {
      "cell_type": "code",
      "metadata": {
        "colab": {
          "base_uri": "https://localhost:8080/",
          "height": 206
        },
        "id": "-fC-z7SjgYgS",
        "outputId": "767e45a4-b105-4245-88cb-e08df5f28c2d"
      },
      "source": [
        "df.head()"
      ],
      "execution_count": null,
      "outputs": [
        {
          "output_type": "execute_result",
          "data": {
            "text/html": [
              "<div>\n",
              "<style scoped>\n",
              "    .dataframe tbody tr th:only-of-type {\n",
              "        vertical-align: middle;\n",
              "    }\n",
              "\n",
              "    .dataframe tbody tr th {\n",
              "        vertical-align: top;\n",
              "    }\n",
              "\n",
              "    .dataframe thead th {\n",
              "        text-align: right;\n",
              "    }\n",
              "</style>\n",
              "<table border=\"1\" class=\"dataframe\">\n",
              "  <thead>\n",
              "    <tr style=\"text-align: right;\">\n",
              "      <th></th>\n",
              "      <th>v1</th>\n",
              "      <th>v2</th>\n",
              "    </tr>\n",
              "  </thead>\n",
              "  <tbody>\n",
              "    <tr>\n",
              "      <th>0</th>\n",
              "      <td>ham</td>\n",
              "      <td>Go until jurong point, crazy.. Available only ...</td>\n",
              "    </tr>\n",
              "    <tr>\n",
              "      <th>1</th>\n",
              "      <td>ham</td>\n",
              "      <td>Ok lar... Joking wif u oni...</td>\n",
              "    </tr>\n",
              "    <tr>\n",
              "      <th>2</th>\n",
              "      <td>spam</td>\n",
              "      <td>Free entry in 2 a wkly comp to win FA Cup fina...</td>\n",
              "    </tr>\n",
              "    <tr>\n",
              "      <th>3</th>\n",
              "      <td>ham</td>\n",
              "      <td>U dun say so early hor... U c already then say...</td>\n",
              "    </tr>\n",
              "    <tr>\n",
              "      <th>4</th>\n",
              "      <td>ham</td>\n",
              "      <td>Nah I don't think he goes to usf, he lives aro...</td>\n",
              "    </tr>\n",
              "  </tbody>\n",
              "</table>\n",
              "</div>"
            ],
            "text/plain": [
              "     v1                                                 v2\n",
              "0   ham  Go until jurong point, crazy.. Available only ...\n",
              "1   ham                      Ok lar... Joking wif u oni...\n",
              "2  spam  Free entry in 2 a wkly comp to win FA Cup fina...\n",
              "3   ham  U dun say so early hor... U c already then say...\n",
              "4   ham  Nah I don't think he goes to usf, he lives aro..."
            ]
          },
          "metadata": {
            "tags": []
          },
          "execution_count": 6
        }
      ]
    },
    {
      "cell_type": "code",
      "metadata": {
        "id": "fL0gcJynhThk"
      },
      "source": [
        "df.columns = ['labels', 'data']"
      ],
      "execution_count": null,
      "outputs": []
    },
    {
      "cell_type": "code",
      "metadata": {
        "id": "foJnR8cygZm5"
      },
      "source": [
        "df['enc_labels'] = df['labels'].map({'ham': 0, 'spam': 1})"
      ],
      "execution_count": null,
      "outputs": []
    },
    {
      "cell_type": "code",
      "metadata": {
        "colab": {
          "base_uri": "https://localhost:8080/",
          "height": 206
        },
        "id": "xEtpEDh1hej2",
        "outputId": "e43e516f-5126-44d6-b2e6-6004fd95dde8"
      },
      "source": [
        "df.head()"
      ],
      "execution_count": null,
      "outputs": [
        {
          "output_type": "execute_result",
          "data": {
            "text/html": [
              "<div>\n",
              "<style scoped>\n",
              "    .dataframe tbody tr th:only-of-type {\n",
              "        vertical-align: middle;\n",
              "    }\n",
              "\n",
              "    .dataframe tbody tr th {\n",
              "        vertical-align: top;\n",
              "    }\n",
              "\n",
              "    .dataframe thead th {\n",
              "        text-align: right;\n",
              "    }\n",
              "</style>\n",
              "<table border=\"1\" class=\"dataframe\">\n",
              "  <thead>\n",
              "    <tr style=\"text-align: right;\">\n",
              "      <th></th>\n",
              "      <th>labels</th>\n",
              "      <th>data</th>\n",
              "      <th>enc_labels</th>\n",
              "    </tr>\n",
              "  </thead>\n",
              "  <tbody>\n",
              "    <tr>\n",
              "      <th>0</th>\n",
              "      <td>ham</td>\n",
              "      <td>Go until jurong point, crazy.. Available only ...</td>\n",
              "      <td>0</td>\n",
              "    </tr>\n",
              "    <tr>\n",
              "      <th>1</th>\n",
              "      <td>ham</td>\n",
              "      <td>Ok lar... Joking wif u oni...</td>\n",
              "      <td>0</td>\n",
              "    </tr>\n",
              "    <tr>\n",
              "      <th>2</th>\n",
              "      <td>spam</td>\n",
              "      <td>Free entry in 2 a wkly comp to win FA Cup fina...</td>\n",
              "      <td>1</td>\n",
              "    </tr>\n",
              "    <tr>\n",
              "      <th>3</th>\n",
              "      <td>ham</td>\n",
              "      <td>U dun say so early hor... U c already then say...</td>\n",
              "      <td>0</td>\n",
              "    </tr>\n",
              "    <tr>\n",
              "      <th>4</th>\n",
              "      <td>ham</td>\n",
              "      <td>Nah I don't think he goes to usf, he lives aro...</td>\n",
              "      <td>0</td>\n",
              "    </tr>\n",
              "  </tbody>\n",
              "</table>\n",
              "</div>"
            ],
            "text/plain": [
              "  labels                                               data  enc_labels\n",
              "0    ham  Go until jurong point, crazy.. Available only ...           0\n",
              "1    ham                      Ok lar... Joking wif u oni...           0\n",
              "2   spam  Free entry in 2 a wkly comp to win FA Cup fina...           1\n",
              "3    ham  U dun say so early hor... U c already then say...           0\n",
              "4    ham  Nah I don't think he goes to usf, he lives aro...           0"
            ]
          },
          "metadata": {
            "tags": []
          },
          "execution_count": 9
        }
      ]
    },
    {
      "cell_type": "code",
      "metadata": {
        "id": "yaHO02rUhqon"
      },
      "source": [
        "X = df['data']\r\n",
        "y = df['enc_labels'].values"
      ],
      "execution_count": null,
      "outputs": []
    },
    {
      "cell_type": "code",
      "metadata": {
        "id": "9px4FpgFiKfB"
      },
      "source": [
        "X_train, X_test, y_train, y_test = train_test_split(X, y, test_size = 0.33)"
      ],
      "execution_count": null,
      "outputs": []
    },
    {
      "cell_type": "code",
      "metadata": {
        "id": "5eNo9pTciZHO"
      },
      "source": [
        "MAX_VOCAB_SIZE = 20000\r\n",
        "tokenizer = Tokenizer(num_words=MAX_VOCAB_SIZE)\r\n",
        "tokenizer.fit_on_texts(X_train)\r\n",
        "train_sequences = tokenizer.texts_to_sequences(X_train)\r\n",
        "test_sequence = tokenizer.texts_to_sequences(X_test)"
      ],
      "execution_count": null,
      "outputs": []
    },
    {
      "cell_type": "code",
      "metadata": {
        "colab": {
          "base_uri": "https://localhost:8080/"
        },
        "id": "WaZXSndhjWbr",
        "outputId": "92db9833-9868-498b-e2ce-197d0caafc6d"
      },
      "source": [
        "# get word -> index mapping\r\n",
        "word2idx = tokenizer.word_index\r\n",
        "V = len(word2idx)\r\n",
        "\r\n",
        "print(\"Found %s unique tokens.\" % V)"
      ],
      "execution_count": null,
      "outputs": [
        {
          "output_type": "stream",
          "text": [
            "Found 7176 unique tokens.\n"
          ],
          "name": "stdout"
        }
      ]
    },
    {
      "cell_type": "code",
      "metadata": {
        "colab": {
          "base_uri": "https://localhost:8080/"
        },
        "id": "9fUHJQbqjYp7",
        "outputId": "6a5c4d10-47fc-4d5a-e0b6-93674fd53beb"
      },
      "source": [
        "# pad sequences to get a N x T matrix\r\n",
        "\r\n",
        "train_data = pad_sequences(train_sequences)\r\n",
        "\r\n",
        "print('Shape of training data tensor:', train_data.shape)\r\n",
        "\r\n",
        "# get sequence length\r\n",
        "T = train_data.shape[1]"
      ],
      "execution_count": null,
      "outputs": [
        {
          "output_type": "stream",
          "text": [
            "Shape of training data tensor: (3733, 189)\n"
          ],
          "name": "stdout"
        }
      ]
    },
    {
      "cell_type": "code",
      "metadata": {
        "colab": {
          "base_uri": "https://localhost:8080/"
        },
        "id": "g9OoAN673Exj",
        "outputId": "3115a7f2-f931-4015-9b7b-887f0974792a"
      },
      "source": [
        "test_data = pad_sequences(test_sequence, maxlen = T)\r\n",
        "print('Shape of test data tensor:', test_data.shape)"
      ],
      "execution_count": null,
      "outputs": [
        {
          "output_type": "stream",
          "text": [
            "Shape of test data tensor: (1839, 189)\n"
          ],
          "name": "stdout"
        }
      ]
    },
    {
      "cell_type": "code",
      "metadata": {
        "id": "FmDipCMn4NaH"
      },
      "source": [
        "# Create the model\r\n",
        "\r\n",
        "# We get to choose embedding dimensionality \r\n",
        "D = 20\r\n",
        "\r\n",
        "# Hidden state dimensionality \r\n",
        "M = 20\r\n",
        "\r\n",
        "# Note; we actually want to the size of the embedding to be (V + 1) x D,\r\n",
        "# because the first index starts from 1 and not .\r\n",
        "# Thus, if the final index of the embedding matrix is V,\r\n",
        "# then it actually must have size V + 1\r\n",
        "\r\n",
        "i = Input(shape=(T,))\r\n",
        "x = Embedding(V + 1, D)(i)\r\n",
        "x = LSTM(M, return_sequences=True)(x)\r\n",
        "x = GlobalMaxPooling1D()(x)\r\n",
        "x = Dense(1, activation='sigmoid')(x)\r\n",
        "\r\n",
        "model = Model(i, x)"
      ],
      "execution_count": null,
      "outputs": []
    },
    {
      "cell_type": "code",
      "metadata": {
        "colab": {
          "base_uri": "https://localhost:8080/"
        },
        "id": "WNiNYBzP_HMv",
        "outputId": "b2a85318-f168-447f-ff27-73eaf7eba6ed"
      },
      "source": [
        "model.compile(\r\n",
        "    optimizer='adam',\r\n",
        "    loss = 'binary_crossentropy',\r\n",
        "    metrics = ['accuracy']\r\n",
        ")\r\n",
        "\r\n",
        "r = model.fit(\r\n",
        "    train_data,\r\n",
        "    y_train,\r\n",
        "    epochs = 10,\r\n",
        "    validation_data = (test_data, y_test)\r\n",
        ")"
      ],
      "execution_count": null,
      "outputs": [
        {
          "output_type": "stream",
          "text": [
            "Epoch 1/10\n",
            "117/117 [==============================] - 12s 80ms/step - loss: 0.5455 - accuracy: 0.8562 - val_loss: 0.4033 - val_accuracy: 0.8608\n",
            "Epoch 2/10\n",
            "117/117 [==============================] - 9s 75ms/step - loss: 0.3718 - accuracy: 0.8760 - val_loss: 0.3907 - val_accuracy: 0.8608\n",
            "Epoch 3/10\n",
            "117/117 [==============================] - 9s 78ms/step - loss: 0.3816 - accuracy: 0.8600 - val_loss: 0.3378 - val_accuracy: 0.8608\n",
            "Epoch 4/10\n",
            "117/117 [==============================] - 9s 78ms/step - loss: 0.2718 - accuracy: 0.8795 - val_loss: 0.1651 - val_accuracy: 0.9793\n",
            "Epoch 5/10\n",
            "117/117 [==============================] - 9s 80ms/step - loss: 0.1134 - accuracy: 0.9852 - val_loss: 0.1074 - val_accuracy: 0.9750\n",
            "Epoch 6/10\n",
            "117/117 [==============================] - 9s 77ms/step - loss: 0.0558 - accuracy: 0.9917 - val_loss: 0.0831 - val_accuracy: 0.9793\n",
            "Epoch 7/10\n",
            "117/117 [==============================] - 9s 76ms/step - loss: 0.0425 - accuracy: 0.9948 - val_loss: 0.0776 - val_accuracy: 0.9782\n",
            "Epoch 8/10\n",
            "117/117 [==============================] - 9s 77ms/step - loss: 0.0226 - accuracy: 0.9975 - val_loss: 0.0726 - val_accuracy: 0.9782\n",
            "Epoch 9/10\n",
            "117/117 [==============================] - 9s 76ms/step - loss: 0.0185 - accuracy: 0.9981 - val_loss: 0.0762 - val_accuracy: 0.9782\n",
            "Epoch 10/10\n",
            "117/117 [==============================] - 9s 77ms/step - loss: 0.0147 - accuracy: 0.9969 - val_loss: 0.0730 - val_accuracy: 0.9777\n"
          ],
          "name": "stdout"
        }
      ]
    },
    {
      "cell_type": "code",
      "metadata": {
        "colab": {
          "base_uri": "https://localhost:8080/",
          "height": 283
        },
        "id": "b0KctmKPAOK9",
        "outputId": "7c72789e-6593-42d7-cd57-0a2f2a5187ca"
      },
      "source": [
        "plt.plot(r.history['loss'], label = 'loss')\r\n",
        "plt.plot(r.history['val_loss'], label = 'val_loss')\r\n",
        "plt.legend"
      ],
      "execution_count": null,
      "outputs": [
        {
          "output_type": "execute_result",
          "data": {
            "text/plain": [
              "<function matplotlib.pyplot.legend>"
            ]
          },
          "metadata": {
            "tags": []
          },
          "execution_count": 18
        },
        {
          "output_type": "display_data",
          "data": {
            "image/png": "[encoded data removed]",
            "text/plain": [
              "<Figure size 432x288 with 1 Axes>"
            ]
          },
          "metadata": {
            "tags": [],
            "needs_background": "light"
          }
        }
      ]
    },
    {
      "cell_type": "code",
      "metadata": {
        "colab": {
          "base_uri": "https://localhost:8080/",
          "height": 283
        },
        "id": "aPLjtXo5AtWo",
        "outputId": "2a72593d-9646-43e6-c641-4ccabe5637bc"
      },
      "source": [
        "plt.plot(r.history['accuracy'], label = 'acc')\r\n",
        "plt.plot(r.history['val_accuracy'], label = 'val_acc')\r\n",
        "plt.legend"
      ],
      "execution_count": null,
      "outputs": [
        {
          "output_type": "execute_result",
          "data": {
            "text/plain": [
              "<function matplotlib.pyplot.legend>"
            ]
          },
          "metadata": {
            "tags": []
          },
          "execution_count": 19
        },
        {
          "output_type": "display_data",
          "data": {
            "image/png": "[encoded data removed]",
            "text/plain": [
              "<Figure size 432x288 with 1 Axes>"
            ]
          },
          "metadata": {
            "tags": [],
            "needs_background": "light"
          }
        }
      ]
    },
    {
      "cell_type": "code",
      "metadata": {
        "id": "Uecl8vkyA1nm"
      },
      "source": [
        ""
      ],
      "execution_count": null,
      "outputs": []
    },
    {
      "cell_type": "code",
      "metadata": {
        "id": "UO4-Qqu8tj6P"
      },
      "source": [
        "# Create the model\r\n",
        "\r\n",
        "# We get to choose embedding dimensionality \r\n",
        "D = 20\r\n",
        "\r\n",
        "# Hidden state dimensionality \r\n",
        "M = 20\r\n",
        "\r\n",
        "# Note; we actually want to the size of the embedding to be (V + 1) x D,\r\n",
        "# because the first index starts from 1 and not .\r\n",
        "# Thus, if the final index of the embedding matrix is V,\r\n",
        "# then it actually must have size V + 1\r\n",
        "\r\n",
        "i = Input(shape=(T,))\r\n",
        "x = Embedding(V + 1, D)(i)\r\n",
        "x = Bidirectional(LSTM(M, return_sequences=True))(x)\r\n",
        "x = GlobalMaxPooling1D()(x)\r\n",
        "x = Dense(1, activation='sigmoid')(x)\r\n",
        "\r\n",
        "model = Model(i, x)"
      ],
      "execution_count": null,
      "outputs": []
    },
    {
      "cell_type": "code",
      "metadata": {
        "colab": {
          "base_uri": "https://localhost:8080/"
        },
        "id": "Go3jIOE6t8Sk",
        "outputId": "d702fc37-2796-47d1-ee9a-f25da83fdb14"
      },
      "source": [
        "model.compile(\r\n",
        "    optimizer='adam',\r\n",
        "    loss = 'binary_crossentropy',\r\n",
        "    metrics = ['accuracy']\r\n",
        ")\r\n",
        "\r\n",
        "r = model.fit(\r\n",
        "    train_data,\r\n",
        "    y_train,\r\n",
        "    epochs = 10,\r\n",
        "    validation_data = (test_data, y_test)\r\n",
        ")"
      ],
      "execution_count": null,
      "outputs": [
        {
          "output_type": "stream",
          "text": [
            "Epoch 1/10\n",
            "117/117 [==============================] - 17s 114ms/step - loss: 0.5475 - accuracy: 0.8189 - val_loss: 0.3043 - val_accuracy: 0.8608\n",
            "Epoch 2/10\n",
            "117/117 [==============================] - 13s 109ms/step - loss: 0.1850 - accuracy: 0.9158 - val_loss: 0.0771 - val_accuracy: 0.9869\n",
            "Epoch 3/10\n",
            "117/117 [==============================] - 13s 109ms/step - loss: 0.0595 - accuracy: 0.9866 - val_loss: 0.0632 - val_accuracy: 0.9842\n",
            "Epoch 4/10\n",
            "117/117 [==============================] - 13s 108ms/step - loss: 0.0392 - accuracy: 0.9880 - val_loss: 0.0626 - val_accuracy: 0.9837\n",
            "Epoch 5/10\n",
            "117/117 [==============================] - 13s 111ms/step - loss: 0.0301 - accuracy: 0.9911 - val_loss: 0.0559 - val_accuracy: 0.9831\n",
            "Epoch 6/10\n",
            "117/117 [==============================] - 13s 113ms/step - loss: 0.0237 - accuracy: 0.9920 - val_loss: 0.0601 - val_accuracy: 0.9815\n",
            "Epoch 7/10\n",
            "117/117 [==============================] - 14s 119ms/step - loss: 0.0212 - accuracy: 0.9906 - val_loss: 0.0568 - val_accuracy: 0.9859\n",
            "Epoch 8/10\n",
            "117/117 [==============================] - 14s 119ms/step - loss: 0.0109 - accuracy: 0.9963 - val_loss: 0.0538 - val_accuracy: 0.9853\n",
            "Epoch 9/10\n",
            "117/117 [==============================] - 14s 119ms/step - loss: 0.0088 - accuracy: 0.9970 - val_loss: 0.0527 - val_accuracy: 0.9859\n",
            "Epoch 10/10\n",
            "117/117 [==============================] - 14s 119ms/step - loss: 0.0074 - accuracy: 0.9975 - val_loss: 0.0659 - val_accuracy: 0.9842\n"
          ],
          "name": "stdout"
        }
      ]
    },
    {
      "cell_type": "code",
      "metadata": {
        "colab": {
          "base_uri": "https://localhost:8080/",
          "height": 283
        },
        "id": "gECSX37et-ML",
        "outputId": "fdbe6a50-1c30-4303-a822-b647c2e37688"
      },
      "source": [
        "plt.plot(r.history['loss'], label = 'loss')\r\n",
        "plt.plot(r.history['val_loss'], label = 'val_loss')\r\n",
        "plt.legend"
      ],
      "execution_count": null,
      "outputs": [
        {
          "output_type": "execute_result",
          "data": {
            "text/plain": [
              "<function matplotlib.pyplot.legend>"
            ]
          },
          "metadata": {
            "tags": []
          },
          "execution_count": 22
        },
        {
          "output_type": "display_data",
          "data": {
            "image/png": "[encoded data removed]",
            "text/plain": [
              "<Figure size 432x288 with 1 Axes>"
            ]
          },
          "metadata": {
            "tags": [],
            "needs_background": "light"
          }
        }
      ]
    },
    {
      "cell_type": "code",
      "metadata": {
        "colab": {
          "base_uri": "https://localhost:8080/",
          "height": 283
        },
        "id": "STz65K1WuC9z",
        "outputId": "537018bb-e9af-4c4b-acfc-e49d040ab5f0"
      },
      "source": [
        "plt.plot(r.history['accuracy'], label = 'acc')\r\n",
        "plt.plot(r.history['val_accuracy'], label = 'val_acc')\r\n",
        "plt.legend"
      ],
      "execution_count": null,
      "outputs": [
        {
          "output_type": "execute_result",
          "data": {
            "text/plain": [
              "<function matplotlib.pyplot.legend>"
            ]
          },
          "metadata": {
            "tags": []
          },
          "execution_count": 23
        },
        {
          "output_type": "display_data",
          "data": {
            "image/png": "[encoded data removed]",
            "text/plain": [
              "<Figure size 432x288 with 1 Axes>"
            ]
          },
          "metadata": {
            "tags": [],
            "needs_background": "light"
          }
        }
      ]
    },
    {
      "cell_type": "code",
      "metadata": {
        "id": "knd5KPj6JQld"
      },
      "source": [
        "sample_text = [\"Buy a stock at $2.99 for on a promo date\"]\r\n",
        "\r\n",
        "pred = tokenizer.texts_to_sequences(sample_text)\r\n",
        "pad_pred = pad_sequences(pred, maxlen = train_data.shape[1])"
      ],
      "execution_count": null,
      "outputs": []
    },
    {
      "cell_type": "code",
      "metadata": {
        "colab": {
          "base_uri": "https://localhost:8080/"
        },
        "id": "9BGOAHo8yD_s",
        "outputId": "212354bf-71ca-4811-ed7e-f53237b65649"
      },
      "source": [
        "predictions = model.predict([pad_pred])\r\n",
        "print(predictions)"
      ],
      "execution_count": null,
      "outputs": [
        {
          "output_type": "stream",
          "text": [
            "[[0.00374642]]\n"
          ],
          "name": "stdout"
        }
      ]
    },
    {
      "cell_type": "code",
      "metadata": {
        "id": "1gvh_VqKLw4E"
      },
      "source": [
        ""
      ],
      "execution_count": null,
      "outputs": []
    }
  ]
}